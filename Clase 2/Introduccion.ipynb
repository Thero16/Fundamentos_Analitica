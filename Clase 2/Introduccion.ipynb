{
 "cells": [
  {
   "cell_type": "code",
   "execution_count": 1,
   "id": "28e8f8a9",
   "metadata": {},
   "outputs": [
    {
     "name": "stdout",
     "output_type": "stream",
     "text": [
      "hola mundo\n"
     ]
    }
   ],
   "source": [
    "print(\"hola mundo\")"
   ]
  },
  {
   "cell_type": "markdown",
   "id": "39a0e031",
   "metadata": {},
   "source": [
    "Secuencia de fibonacci"
   ]
  },
  {
   "cell_type": "code",
   "execution_count": 6,
   "id": "ab7b460d",
   "metadata": {},
   "outputs": [
    {
     "name": "stdout",
     "output_type": "stream",
     "text": [
      "8\n"
     ]
    }
   ],
   "source": [
    "a=0\n",
    "b=1\n",
    "c=0\n",
    "\n",
    "for i in range(6):\n",
    "    c=a+b\n",
    "    b=a\n",
    "    a=c\n",
    "print(c)"
   ]
  },
  {
   "cell_type": "markdown",
   "id": "1116a46c",
   "metadata": {},
   "source": [
    "**Esto es negrilla**\n"
   ]
  },
  {
   "cell_type": "markdown",
   "id": "7e0352a2",
   "metadata": {},
   "source": [
    "## Esto es un titulo"
   ]
  },
  {
   "cell_type": "markdown",
   "id": "b893e451",
   "metadata": {},
   "source": [
    "Esto es texto"
   ]
  },
  {
   "cell_type": "markdown",
   "id": "7340ff93",
   "metadata": {},
   "source": [
    "En python si una clase no tiene parentesis es una variable, si tiene parentesis es metodo\n",
    "\n",
    "Ejemplo:\n",
    "\n",
    "list.color - variable\n",
    "\n",
    "list.color() - metodo"
   ]
  }
 ],
 "metadata": {
  "kernelspec": {
   "display_name": ".venv",
   "language": "python",
   "name": "python3"
  },
  "language_info": {
   "codemirror_mode": {
    "name": "ipython",
    "version": 3
   },
   "file_extension": ".py",
   "mimetype": "text/x-python",
   "name": "python",
   "nbconvert_exporter": "python",
   "pygments_lexer": "ipython3",
   "version": "3.12.3"
  }
 },
 "nbformat": 4,
 "nbformat_minor": 5
}
